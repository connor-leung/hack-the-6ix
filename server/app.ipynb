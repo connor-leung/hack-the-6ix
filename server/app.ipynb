{
 "cells": [
  {
   "cell_type": "code",
   "execution_count": 4,
   "metadata": {},
   "outputs": [
    {
     "data": {
      "text/plain": [
       "'Let\\'s break down what LangChain might be.\\n\\n**Step 1: Break down the term \"LangChain\"**\\nThe word \"Lang\" seems to refer to language, and \"Chain\" could imply a series of linked elements or concepts.\\n\\n**Step 2: Consider potential areas related to \"language\"**\\nGiven that \"lang\" relates to language, possible areas of interest might include:\\n\\n* Natural Language Processing (NLP)\\n* Linguistics\\n* Machine Learning for Text Analysis\\n\\n**Step 3: Associate \"Chain\" with these areas**\\nConsidering the areas related to language, we could associate \"chain\" with concepts such as:\\n\\n* A sequence or series of words or tokens\\n* A network or graph structure representing relationships between linguistic elements\\n* A chain of reasoning or inference in NLP models\\n\\n**Step 4: Combine our insights so far**\\nCombining these associations, LangChain might refer to a concept that involves language and chains. Possible interpretations could be:\\n\\n* A tool for building or analyzing sequences of words or tokens in natural language processing (e.g., a library for constructing complex linguistic queries)\\n* A framework for modeling relationships between linguistic elements as a graph structure\\n* A methodology for performing chained reasoning or inference within NLP models\\n\\n**Step 5: Look for concrete examples or implementations**\\nTo further clarify what LangChain is, it would be helpful to look for specific examples of projects, research papers, or tools that explicitly mention or utilize this concept.\\n\\nWhat do you think? Does any of these interpretations seem plausible?'"
      ]
     },
     "execution_count": 4,
     "metadata": {},
     "output_type": "execute_result"
    }
   ],
   "source": [
    "from langchain_core.prompts import ChatPromptTemplate\n",
    "from langchain_ollama.llms import OllamaLLM\n",
    "\n",
    "template = \"\"\"Question: {question}\n",
    "\n",
    "Answer: Let's think step by step.\"\"\"\n",
    "\n",
    "prompt = ChatPromptTemplate.from_template(template)\n",
    "\n",
    "model = OllamaLLM(model=\"llama3.1\")\n",
    "\n",
    "chain = prompt | model\n",
    "\n",
    "chain.invoke({\"question\": \"What is LangChain?\"})"
   ]
  }
 ],
 "metadata": {
  "kernelspec": {
   "display_name": "venv",
   "language": "python",
   "name": "python3"
  },
  "language_info": {
   "codemirror_mode": {
    "name": "ipython",
    "version": 3
   },
   "file_extension": ".py",
   "mimetype": "text/x-python",
   "name": "python",
   "nbconvert_exporter": "python",
   "pygments_lexer": "ipython3",
   "version": "3.12.4"
  }
 },
 "nbformat": 4,
 "nbformat_minor": 2
}
